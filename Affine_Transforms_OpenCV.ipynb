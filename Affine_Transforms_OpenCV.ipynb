{
 "cells": [
  {
   "cell_type": "markdown",
   "id": "df8c8786-9d2f-4883-ab8a-9d3738b0bfde",
   "metadata": {},
   "source": [
    "# Affine Transforms using InBuilt Functions"
   ]
  },
  {
   "cell_type": "code",
   "execution_count": null,
   "id": "0ee8a714-7d20-4aa1-af3e-05f3b63d8129",
   "metadata": {},
   "outputs": [],
   "source": [
    "import cv2 as cv\n",
    "import numpy as np\n",
    "import matplotlib.pyplot as plt\n",
    "\n",
    "def image_translation(floating_shear_value, RADIAN_ANGLE, SCALE_x_y):\n",
    "    image_1 = cv.imread(\"image_1.jpg\", cv.IMREAD_COLOR)\n",
    "    \n",
    "    if image_1 is None:\n",
    "        print(\"Error: Could not load image_1.jpg. Check the file path and integrity.\")\n",
    "        return None, None, None\n",
    "\n",
    "    rows, cols, _ = image_1.shape\n",
    "    \n",
    "    # Shear\n",
    "    shear_factor = floating_shear_value\n",
    "    M_shear = np.float32([[1, shear_factor, 0],\n",
    "                          [0, 1, 0]])\n",
    "    shear_image = cv.warpAffine(image_1, M_shear, (cols, rows))\n",
    "\n",
    "    # Rotate\n",
    "    angle = RADIAN_ANGLE\n",
    "    M_rotate = cv.getRotationMatrix2D((cols/2, rows/2), angle, 1)\n",
    "    rotated_image = cv.warpAffine(image_1, M_rotate, (cols, rows))\n",
    "    \n",
    "    # Scale\n",
    "    scale_factor_x = SCALE_x_y[0]\n",
    "    scale_factor_y = SCALE_x_y[1]\n",
    "    M_scale = np.float32([[scale_factor_x, 0, 0],\n",
    "                          [0, scale_factor_y, 0]])\n",
    "    scaled_image = cv.warpAffine(image_1, M_scale, (cols, rows))\n",
    "    \n",
    "    # Convert BGR to RGB for displaying\n",
    "    shear_image_rgb = cv.cvtColor(shear_image, cv.COLOR_BGR2RGB)\n",
    "    rotated_image_rgb = cv.cvtColor(rotated_image, cv.COLOR_BGR2RGB)\n",
    "    scaled_image_rgb = cv.cvtColor(scaled_image, cv.COLOR_BGR2RGB)\n",
    "    \n",
    "    return shear_image_rgb, rotated_image_rgb, scaled_image_rgb\n",
    "\n",
    "shear_image, rotated_image, scaled_image = image_translation(0.3, 45, [1.2, 1.2])"
   ]
  },
  {
   "cell_type": "markdown",
   "id": "6125d79c-822a-4946-81b5-0d770adcd1b5",
   "metadata": {},
   "source": [
    "# Plotting Outputs using Plotting Library\n"
   ]
  },
  {
   "cell_type": "code",
   "execution_count": null,
   "id": "65126463-e7e9-491d-be0e-f5e5d62665da",
   "metadata": {},
   "outputs": [],
   "source": [
    "fig, axs = plt.subplots(2, 2, figsize=(10, 10))\n",
    "\n",
    "axs[0, 0].imshow(shear_image)\n",
    "axs[0, 0].set_title('Shear')\n",
    "axs[0, 0].axis('off')\n",
    "\n",
    "axs[0, 1].imshow(rotated_image)\n",
    "axs[0, 1].set_title('Rotation')\n",
    "axs[0, 1].axis('off')\n",
    "\n",
    "axs[1, 0].imshow(scaled_image)\n",
    "axs[1, 0].set_title('Scaled')\n",
    "axs[1, 0].axis('off')\n",
    "\n",
    "plt.show()\n"
   ]
  },
  {
   "cell_type": "code",
   "execution_count": null,
   "id": "675625fc-0646-4cce-a6f1-6772568df081",
   "metadata": {},
   "outputs": [],
   "source": []
  }
 ],
 "metadata": {
  "kernelspec": {
   "display_name": "Python 3 (ipykernel)",
   "language": "python",
   "name": "python3"
  },
  "language_info": {
   "codemirror_mode": {
    "name": "ipython",
    "version": 3
   },
   "file_extension": ".py",
   "mimetype": "text/x-python",
   "name": "python",
   "nbconvert_exporter": "python",
   "pygments_lexer": "ipython3",
   "version": "3.12.4"
  }
 },
 "nbformat": 4,
 "nbformat_minor": 5
}
