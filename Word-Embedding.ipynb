{
 "cells": [
  {
   "cell_type": "code",
   "execution_count": null,
   "id": "ee3ecb28-e243-46cd-a3d7-9c816f224349",
   "metadata": {},
   "outputs": [],
   "source": [
    "import numpy as np\n",
    "from sklearn.datasets import fetch_20newsgroups\n",
    "from sklearn.model_selection import train_test_split\n",
    "from sklearn.feature_extraction.text import TfidfVectorizer\n",
    "from sklearn.linear_model import LogisticRegression\n",
    "from sklearn.metrics import accuracy_score\n",
    "from gensim.models import Word2Vec\n",
    "from sklearn.preprocessing import StandardScaler\n",
    "import gensim"
   ]
  },
  {
   "cell_type": "code",
   "execution_count": null,
   "id": "926f7bd7-65cb-486e-98fc-ce7462b5b657",
   "metadata": {},
   "outputs": [],
   "source": [
    "newsgroups = fetch_20newsgroups(subset='all', remove=('headers', 'footers', 'quotes'))\n",
    "X_train, X_test, y_train, y_test = train_test_split(newsgroups.data, newsgroups.target, test_size=0.3, random_state=42)"
   ]
  },
  {
   "cell_type": "code",
   "execution_count": null,
   "id": "7bb9fce6-7748-41fb-b14e-fbeead7c7da5",
   "metadata": {},
   "outputs": [],
   "source": [
    "tfidf_vectorizer = TfidfVectorizer(max_features=5000)\n",
    "X_train_tfidf = tfidf_vectorizer.fit_transform(X_train).toarray()\n",
    "X_test_tfidf = tfidf_vectorizer.transform(X_test).toarray()"
   ]
  },
  {
   "cell_type": "code",
   "execution_count": null,
   "id": "dae279e6-69ac-4a71-8e2c-9607de65b8f7",
   "metadata": {},
   "outputs": [],
   "source": [
    "X_train_tokens = [gensim.utils.simple_preprocess(doc) for doc in X_train]\n",
    "X_test_tokens = [gensim.utils.simple_preprocess(doc) for doc in X_test]\n",
    "word2vec_model = Word2Vec(sentences=X_train_tokens, vector_size=100, window=5, min_count=1, workers=4)\n",
    "word2vec_model.train(X_train_tokens, total_examples=len(X_train_tokens), epochs=10)\n"
   ]
  },
  {
   "cell_type": "code",
   "execution_count": null,
   "id": "17eca9ce-e91a-4a9f-8b70-729de3977a74",
   "metadata": {},
   "outputs": [],
   "source": [
    "def get_average_word_vectors(tokens_list, model, vector_size):\n",
    "    feature_vectors = []\n",
    "    for tokens in tokens_list:\n",
    "        vec = np.zeros(vector_size)\n",
    "        count = 0\n",
    "        for token in tokens:\n",
    "            if token in model.wv.key_to_index:\n",
    "                vec += model.wv[token]\n",
    "                count += 1\n",
    "        if count > 0:\n",
    "            vec /= count\n",
    "        feature_vectors.append(vec)\n",
    "    return np.array(feature_vectors)"
   ]
  },
  {
   "cell_type": "code",
   "execution_count": null,
   "id": "9cfabb1e-3937-4965-9c60-a9f7be2760a0",
   "metadata": {},
   "outputs": [],
   "source": [
    "X_train_w2v = get_average_word_vectors(X_train_tokens, word2vec_model, 100)\n",
    "X_test_w2v = get_average_word_vectors(X_test_tokens, word2vec_model, 100)"
   ]
  },
  {
   "cell_type": "code",
   "execution_count": null,
   "id": "0b79184c-d1d1-4122-9ada-52b4918aaf34",
   "metadata": {},
   "outputs": [],
   "source": [
    "scaler = StandardScaler()\n",
    "X_train_w2v = scaler.fit_transform(X_train_w2v)\n",
    "X_test_w2v = scaler.transform(X_test_w2v)"
   ]
  },
  {
   "cell_type": "code",
   "execution_count": null,
   "id": "ba46f88d-8f8d-49fb-9613-167fcdcd1bb7",
   "metadata": {},
   "outputs": [],
   "source": [
    "model_tfidf = LogisticRegression(max_iter=1000)\n",
    "model_tfidf.fit(X_train_tfidf, y_train)\n",
    "y_pred_tfidf = model_tfidf.predict(X_test_tfidf)\n",
    "\n",
    "model_w2v = LogisticRegression(max_iter=1000)\n",
    "model_w2v.fit(X_train_w2v, y_train)\n",
    "y_pred_w2v = model_w2v.predict(X_test_w2v)"
   ]
  },
  {
   "cell_type": "code",
   "execution_count": null,
   "id": "0fed0784-8ca2-4647-8f1f-b7ca0dbd23dc",
   "metadata": {},
   "outputs": [],
   "source": [
    "accuracy_tfidf = accuracy_score(y_test, y_pred_tfidf)\n",
    "accuracy_w2v = accuracy_score(y_test, y_pred_w2v)\n",
    "\n",
    "print(f\"TF-IDF Model Accuracy: {accuracy_tfidf * 100:.2f}%\")\n",
    "print(f\"Word2Vec Model Accuracy: {accuracy_w2v * 100:.2f}%\")"
   ]
  },
  {
   "cell_type": "code",
   "execution_count": null,
   "id": "841ba5c8-c153-4c19-a7be-51645b0b9543",
   "metadata": {},
   "outputs": [],
   "source": []
  },
  {
   "cell_type": "code",
   "execution_count": null,
   "id": "c9ceaba0-18d4-4761-97aa-90518a671098",
   "metadata": {},
   "outputs": [],
   "source": []
  },
  {
   "cell_type": "code",
   "execution_count": null,
   "id": "450afe23-450e-4948-be1c-25e997fa17ea",
   "metadata": {},
   "outputs": [],
   "source": []
  },
  {
   "cell_type": "code",
   "execution_count": null,
   "id": "2af7b7f0-8b56-4442-9583-e15d6788885a",
   "metadata": {},
   "outputs": [],
   "source": []
  },
  {
   "cell_type": "code",
   "execution_count": null,
   "id": "6d7c71f1-91f3-4fdd-ad73-fcb1e28960bc",
   "metadata": {},
   "outputs": [],
   "source": []
  },
  {
   "cell_type": "code",
   "execution_count": null,
   "id": "8dbe6e9a-f921-4078-981e-ab93d1f76d02",
   "metadata": {},
   "outputs": [],
   "source": []
  },
  {
   "cell_type": "code",
   "execution_count": null,
   "id": "c04cf41e-a6d8-4044-bdbc-c53c4f674cc1",
   "metadata": {},
   "outputs": [],
   "source": []
  },
  {
   "cell_type": "code",
   "execution_count": null,
   "id": "aa58d493-39d4-4ef2-a08f-12e4c3391ce9",
   "metadata": {},
   "outputs": [],
   "source": []
  },
  {
   "cell_type": "code",
   "execution_count": null,
   "id": "a4f76e3c-659f-4718-8d6f-51433daadd12",
   "metadata": {},
   "outputs": [],
   "source": []
  },
  {
   "cell_type": "code",
   "execution_count": null,
   "id": "a2513768-1f63-4773-a67d-bda9f7b3905f",
   "metadata": {},
   "outputs": [],
   "source": []
  }
 ],
 "metadata": {
  "kernelspec": {
   "display_name": "Python 3 (ipykernel)",
   "language": "python",
   "name": "python3"
  },
  "language_info": {
   "codemirror_mode": {
    "name": "ipython",
    "version": 3
   },
   "file_extension": ".py",
   "mimetype": "text/x-python",
   "name": "python",
   "nbconvert_exporter": "python",
   "pygments_lexer": "ipython3",
   "version": "3.12.4"
  }
 },
 "nbformat": 4,
 "nbformat_minor": 5
}
